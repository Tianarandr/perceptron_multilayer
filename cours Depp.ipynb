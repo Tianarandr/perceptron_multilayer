{
 "cells": [
  {
   "cell_type": "code",
   "execution_count": 1,
   "metadata": {
    "executionInfo": {
     "elapsed": 183,
     "status": "ok",
     "timestamp": 1637335756720,
     "user": {
      "displayName": "Mamitiana TAHIRINTSOA",
      "photoUrl": "https://lh3.googleusercontent.com/a/default-user=s64",
      "userId": "02822327075829457232"
     },
     "user_tz": -60
    },
    "id": "-XX5y7EHyjw7"
   },
   "outputs": [
    {
     "name": "stderr",
     "output_type": "stream",
     "text": [
      "Using TensorFlow backend.\n"
     ]
    },
    {
     "ename": "ImportError",
     "evalue": "No module named 'sklearn'",
     "output_type": "error",
     "traceback": [
      "\u001b[0;31m---------------------------------------------------------------------------\u001b[0m",
      "\u001b[0;31mImportError\u001b[0m                               Traceback (most recent call last)",
      "\u001b[0;32m<ipython-input-1-e65f51bd6f75>\u001b[0m in \u001b[0;36m<module>\u001b[0;34m()\u001b[0m\n\u001b[1;32m     14\u001b[0m \u001b[0;34m\u001b[0m\u001b[0m\n\u001b[1;32m     15\u001b[0m \u001b[0;34m\u001b[0m\u001b[0m\n\u001b[0;32m---> 16\u001b[0;31m \u001b[0;32mfrom\u001b[0m \u001b[0msklearn\u001b[0m\u001b[0;34m.\u001b[0m\u001b[0mdatasets\u001b[0m \u001b[0;32mimport\u001b[0m \u001b[0mload_breast_cancer\u001b[0m\u001b[0;34m\u001b[0m\u001b[0m\n\u001b[0m\u001b[1;32m     17\u001b[0m \u001b[0;32mfrom\u001b[0m \u001b[0msklearn\u001b[0m \u001b[0;32mimport\u001b[0m \u001b[0mpreprocessing\u001b[0m\u001b[0;34m\u001b[0m\u001b[0m\n",
      "\u001b[0;31mImportError\u001b[0m: No module named 'sklearn'"
     ]
    }
   ],
   "source": [
    "import time\n",
    "from keras.utils import np_utils\n",
    "from keras.models import Sequential\n",
    "\n",
    "#from keras.optimizers import SGBD\n",
    "from tensorflow.keras.optimizers import SGD\n",
    "from keras.layers import Input, Dense, Activation\n",
    "\n",
    "from keras.layers import Input, Dense, Flatten, Dropout, Concatenate, Conv1D, Activation\n",
    "#from keras.layers.normalization import BatchNormalization\n",
    "\n",
    "import numpy as np\n",
    "\n",
    "\n",
    "\n",
    "from sklearn.datasets import load_breast_cancer\n",
    "from sklearn import preprocessing"
   ]
  },
  {
   "cell_type": "code",
   "execution_count": 9,
   "metadata": {
    "executionInfo": {
     "elapsed": 198,
     "status": "ok",
     "timestamp": 1637335760563,
     "user": {
      "displayName": "Mamitiana TAHIRINTSOA",
      "photoUrl": "https://lh3.googleusercontent.com/a/default-user=s64",
      "userId": "02822327075829457232"
     },
     "user_tz": -60
    },
    "id": "rmWftdiHzCoW"
   },
   "outputs": [],
   "source": [
    "data = load_breast_cancer()"
   ]
  },
  {
   "cell_type": "code",
   "execution_count": 10,
   "metadata": {
    "colab": {
     "base_uri": "https://localhost:8080/"
    },
    "executionInfo": {
     "elapsed": 180,
     "status": "ok",
     "timestamp": 1637335761734,
     "user": {
      "displayName": "Mamitiana TAHIRINTSOA",
      "photoUrl": "https://lh3.googleusercontent.com/a/default-user=s64",
      "userId": "02822327075829457232"
     },
     "user_tz": -60
    },
    "id": "zet5LdtfzWmc",
    "outputId": "9ae7181c-d71a-4ff3-b9fb-a3884a16e834"
   },
   "outputs": [
    {
     "data": {
      "text/plain": [
       "(569, 30)"
      ]
     },
     "execution_count": 10,
     "metadata": {},
     "output_type": "execute_result"
    }
   ],
   "source": [
    "X = data.data\n",
    "np.shape(X)"
   ]
  },
  {
   "cell_type": "code",
   "execution_count": 11,
   "metadata": {
    "colab": {
     "base_uri": "https://localhost:8080/"
    },
    "executionInfo": {
     "elapsed": 187,
     "status": "ok",
     "timestamp": 1637335764351,
     "user": {
      "displayName": "Mamitiana TAHIRINTSOA",
      "photoUrl": "https://lh3.googleusercontent.com/a/default-user=s64",
      "userId": "02822327075829457232"
     },
     "user_tz": -60
    },
    "id": "8xAy2y45zbuL",
    "outputId": "02f199ec-1c16-4b3e-8a9f-e56715618557"
   },
   "outputs": [
    {
     "data": {
      "text/plain": [
       "(569,)"
      ]
     },
     "execution_count": 11,
     "metadata": {},
     "output_type": "execute_result"
    }
   ],
   "source": [
    "y = data.target\n",
    "np.shape(y)"
   ]
  },
  {
   "cell_type": "code",
   "execution_count": 14,
   "metadata": {
    "executionInfo": {
     "elapsed": 194,
     "status": "ok",
     "timestamp": 1637335911884,
     "user": {
      "displayName": "Mamitiana TAHIRINTSOA",
      "photoUrl": "https://lh3.googleusercontent.com/a/default-user=s64",
      "userId": "02822327075829457232"
     },
     "user_tz": -60
    },
    "id": "XT4inDH00RId"
   },
   "outputs": [],
   "source": [
    "def normalized(X):\n",
    "  return (X- np.mean(X, axis=0))/(np.max(X, axis=0) - np.min(X, axis=0))"
   ]
  },
  {
   "cell_type": "code",
   "execution_count": 16,
   "metadata": {
    "colab": {
     "base_uri": "https://localhost:8080/"
    },
    "executionInfo": {
     "elapsed": 190,
     "status": "ok",
     "timestamp": 1637335979990,
     "user": {
      "displayName": "Mamitiana TAHIRINTSOA",
      "photoUrl": "https://lh3.googleusercontent.com/a/default-user=s64",
      "userId": "02822327075829457232"
     },
     "user_tz": -60
    },
    "id": "L8yA-FpK0mUT",
    "outputId": "e6d55b34-5968-4dac-dff5-3d60ced35bb0"
   },
   "outputs": [
    {
     "name": "stdout",
     "output_type": "stream",
     "text": [
      "[[1.799e+01 1.038e+01 1.228e+02 ... 2.654e-01 4.601e-01 1.189e-01]\n",
      " [2.057e+01 1.777e+01 1.329e+02 ... 1.860e-01 2.750e-01 8.902e-02]\n",
      " [1.969e+01 2.125e+01 1.300e+02 ... 2.430e-01 3.613e-01 8.758e-02]\n",
      " ...\n",
      " [1.660e+01 2.808e+01 1.083e+02 ... 1.418e-01 2.218e-01 7.820e-02]\n",
      " [2.060e+01 2.933e+01 1.401e+02 ... 2.650e-01 4.087e-01 1.240e-01]\n",
      " [7.760e+00 2.454e+01 4.792e+01 ... 0.000e+00 2.871e-01 7.039e-02]]\n",
      "after normalization\n",
      "[[ 0.18281548 -0.30130702  0.21305346 ...  0.51819167  0.33515559\n",
      "   0.22926789]\n",
      " [ 0.30492254 -0.05139156  0.28284822 ...  0.24533944 -0.02971727\n",
      "   0.03328206]\n",
      " [ 0.26327362  0.06629528  0.26280814 ...  0.44121573  0.14039903\n",
      "   0.02383696]\n",
      " ...\n",
      " [ 0.11702912  0.29727262  0.11285306 ...  0.0934494  -0.13458618\n",
      "  -0.03768738]\n",
      " [ 0.30634239  0.3395452   0.33260291 ...  0.5168171   0.23383487\n",
      "   0.26271929]\n",
      " [-0.3013532   0.1775567  -0.30439523 ... -0.39383582 -0.00586551\n",
      "  -0.08891393]]\n"
     ]
    }
   ],
   "source": [
    "print(X)\n",
    "x_norm = normalized(X)\n",
    "print(\"after normalization\")\n",
    "print(x_norm)"
   ]
  },
  {
   "cell_type": "code",
   "execution_count": 18,
   "metadata": {
    "executionInfo": {
     "elapsed": 168,
     "status": "ok",
     "timestamp": 1637336316008,
     "user": {
      "displayName": "Mamitiana TAHIRINTSOA",
      "photoUrl": "https://lh3.googleusercontent.com/a/default-user=s64",
      "userId": "02822327075829457232"
     },
     "user_tz": -60
    },
    "id": "KzRKbG651gY1"
   },
   "outputs": [],
   "source": [
    "from sklearn.model_selection import train_test_split\n",
    "X_train, X_test, y_train, y_test = train_test_split(x_norm,y , test_size=0.3, train_size=0.7, random_state=True)\n",
    "x_validation, x_test, "
   ]
  },
  {
   "cell_type": "code",
   "execution_count": null,
   "metadata": {
    "id": "LYC_CCw4City"
   },
   "outputs": [],
   "source": [
    "from keras.layers import Dense, Activation\n",
    "from tensorflow.keras.optimizers import SGD\n",
    "from tensorflow.keras.callbacks import ModelCheckpoint, EarlyStopping\n",
    "#from keras.layers.normalization import BatchNormalization\n",
    "\n",
    "# import BatchNormalization\n",
    "from tensorflow.keras.layers import BatchNormalization\n",
    "\n",
    "\n",
    "\n",
    "learning_rate =0.8\n",
    "batch_size = 50\n",
    "nb_epoch =50\n",
    "\n",
    "#hyperparametre deep_learning, tableau (colone, ligne (accuracy, loss))\n",
    "#ammelioer cet modele\n",
    "model = Sequential()\n",
    "model.add(Dense(128, input_dim=30))\n",
    "model.add(Activation('sigmoid'))\n",
    "model.add(Dropout(0.3))\n",
    "\n",
    "model.add(Dense(512))\n",
    "model.add(Activation('sigmoid'))\n",
    "model.add(Dropout(0.3))\n",
    "model.add(BatchNormalization())\n",
    "\n",
    "\n",
    "model.add(Dense(1))\n",
    "model.add(Activation('softmax'))\n",
    "\n",
    "#sauvgarder le bon model\n",
    "checkpointer = ModelCheckpoint(filepath='NN_TP1.hdf5', monitor='val_loss', verbose=0, save_best_only=True, \n",
    "                               save_weiths_only=False, mode='min', period=1)\n",
    "\n",
    "#toper des qu'il y a une divergence\n",
    "early = EarlyStopping(monitor='val_loss', min_delta=0, patience=5, verbose=0, mode='auto')\n",
    "\n",
    "\n",
    "sgd = SGD(learning_rate)\n",
    "\n",
    "model.compile(loss='binary_crossentropy', optimizer=sgd, metrics=['accuracy'])\n",
    "model.fit(X_train, y_train, batch_size=batch_size, \n",
    "          validation_data=(X_validation, y_validation), callbacks=[checkpointer, early] , verbose=1)"
   ]
  },
  {
   "cell_type": "code",
   "execution_count": 20,
   "metadata": {
    "colab": {
     "base_uri": "https://localhost:8080/"
    },
    "executionInfo": {
     "elapsed": 178,
     "status": "ok",
     "timestamp": 1637336358028,
     "user": {
      "displayName": "Mamitiana TAHIRINTSOA",
      "photoUrl": "https://lh3.googleusercontent.com/a/default-user=s64",
      "userId": "02822327075829457232"
     },
     "user_tz": -60
    },
    "id": "3c89gftK2Yr7",
    "outputId": "9b63523a-5c9f-43b2-e8a6-084979862925"
   },
   "outputs": [
    {
     "data": {
      "text/plain": [
       "((398, 30), (398,))"
      ]
     },
     "execution_count": 20,
     "metadata": {},
     "output_type": "execute_result"
    }
   ],
   "source": [
    "np.shape(X_train), np.shape(y_train)"
   ]
  },
  {
   "cell_type": "markdown",
   "metadata": {
    "id": "jvTquhRz3mG_"
   },
   "source": []
  },
  {
   "cell_type": "code",
   "execution_count": 30,
   "metadata": {
    "colab": {
     "base_uri": "https://localhost:8080/"
    },
    "executionInfo": {
     "elapsed": 3019,
     "status": "ok",
     "timestamp": 1637338242491,
     "user": {
      "displayName": "Mamitiana TAHIRINTSOA",
      "photoUrl": "https://lh3.googleusercontent.com/a/default-user=s64",
      "userId": "02822327075829457232"
     },
     "user_tz": -60
    },
    "id": "bM5oFhBx3mhu",
    "outputId": "d992f993-b48c-4bc6-aa61-9623e336efa2"
   },
   "outputs": [
    {
     "name": "stdout",
     "output_type": "stream",
     "text": [
      "Epoch 1/50\n",
      "8/8 [==============================] - 1s 4ms/step - loss: 5.8756 - accuracy: 0.6256\n",
      "Epoch 2/50\n",
      "8/8 [==============================] - 0s 4ms/step - loss: 1.6251 - accuracy: 0.6256\n",
      "Epoch 3/50\n",
      "8/8 [==============================] - 0s 4ms/step - loss: 0.7074 - accuracy: 0.6256\n",
      "Epoch 4/50\n",
      "8/8 [==============================] - 0s 4ms/step - loss: 0.7874 - accuracy: 0.6256\n",
      "Epoch 5/50\n",
      "8/8 [==============================] - 0s 5ms/step - loss: 0.6896 - accuracy: 0.6256\n",
      "Epoch 6/50\n",
      "8/8 [==============================] - 0s 5ms/step - loss: 0.6585 - accuracy: 0.6256\n",
      "Epoch 7/50\n",
      "8/8 [==============================] - 0s 4ms/step - loss: 0.6924 - accuracy: 0.6256\n",
      "Epoch 8/50\n",
      "8/8 [==============================] - 0s 4ms/step - loss: 0.8237 - accuracy: 0.6256\n",
      "Epoch 9/50\n",
      "8/8 [==============================] - 0s 4ms/step - loss: 0.6683 - accuracy: 0.6256\n",
      "Epoch 10/50\n",
      "8/8 [==============================] - 0s 5ms/step - loss: 0.6808 - accuracy: 0.6256\n",
      "Epoch 11/50\n",
      "8/8 [==============================] - 0s 4ms/step - loss: 0.6499 - accuracy: 0.6256\n",
      "Epoch 12/50\n",
      "8/8 [==============================] - 0s 5ms/step - loss: 0.6616 - accuracy: 0.6256\n",
      "Epoch 13/50\n",
      "8/8 [==============================] - 0s 5ms/step - loss: 0.6433 - accuracy: 0.6256\n",
      "Epoch 14/50\n",
      "8/8 [==============================] - 0s 6ms/step - loss: 0.6314 - accuracy: 0.6256\n",
      "Epoch 15/50\n",
      "8/8 [==============================] - 0s 5ms/step - loss: 0.6078 - accuracy: 0.6256\n",
      "Epoch 16/50\n",
      "8/8 [==============================] - 0s 6ms/step - loss: 0.6121 - accuracy: 0.6256\n",
      "Epoch 17/50\n",
      "8/8 [==============================] - 0s 4ms/step - loss: 0.5977 - accuracy: 0.6256\n",
      "Epoch 18/50\n",
      "8/8 [==============================] - 0s 5ms/step - loss: 0.5737 - accuracy: 0.6256\n",
      "Epoch 19/50\n",
      "8/8 [==============================] - 0s 5ms/step - loss: 0.5656 - accuracy: 0.6256\n",
      "Epoch 20/50\n",
      "8/8 [==============================] - 0s 4ms/step - loss: 0.5352 - accuracy: 0.6256\n",
      "Epoch 21/50\n",
      "8/8 [==============================] - 0s 5ms/step - loss: 0.6128 - accuracy: 0.6256\n",
      "Epoch 22/50\n",
      "8/8 [==============================] - 0s 6ms/step - loss: 0.5303 - accuracy: 0.6256\n",
      "Epoch 23/50\n",
      "8/8 [==============================] - 0s 4ms/step - loss: 0.4360 - accuracy: 0.6256\n",
      "Epoch 24/50\n",
      "8/8 [==============================] - 0s 5ms/step - loss: 0.5449 - accuracy: 0.6256\n",
      "Epoch 25/50\n",
      "8/8 [==============================] - 0s 4ms/step - loss: 0.3881 - accuracy: 0.6256\n",
      "Epoch 26/50\n",
      "8/8 [==============================] - 0s 4ms/step - loss: 0.3692 - accuracy: 0.6256\n",
      "Epoch 27/50\n",
      "8/8 [==============================] - 0s 5ms/step - loss: 0.4071 - accuracy: 0.6256\n",
      "Epoch 28/50\n",
      "8/8 [==============================] - 0s 4ms/step - loss: 0.3327 - accuracy: 0.6256\n",
      "Epoch 29/50\n",
      "8/8 [==============================] - 0s 4ms/step - loss: 0.3057 - accuracy: 0.6256\n",
      "Epoch 30/50\n",
      "8/8 [==============================] - 0s 4ms/step - loss: 0.2931 - accuracy: 0.6256\n",
      "Epoch 31/50\n",
      "8/8 [==============================] - 0s 4ms/step - loss: 0.2798 - accuracy: 0.6256\n",
      "Epoch 32/50\n",
      "8/8 [==============================] - 0s 6ms/step - loss: 0.2590 - accuracy: 0.6256\n",
      "Epoch 33/50\n",
      "8/8 [==============================] - 0s 5ms/step - loss: 0.2571 - accuracy: 0.6256\n",
      "Epoch 34/50\n",
      "8/8 [==============================] - 0s 5ms/step - loss: 0.2990 - accuracy: 0.6256\n",
      "Epoch 35/50\n",
      "8/8 [==============================] - 0s 5ms/step - loss: 0.2199 - accuracy: 0.6256\n",
      "Epoch 36/50\n",
      "8/8 [==============================] - 0s 5ms/step - loss: 0.2413 - accuracy: 0.6256\n",
      "Epoch 37/50\n",
      "8/8 [==============================] - 0s 6ms/step - loss: 0.2119 - accuracy: 0.6256\n",
      "Epoch 38/50\n",
      "8/8 [==============================] - 0s 4ms/step - loss: 0.2359 - accuracy: 0.6256\n",
      "Epoch 39/50\n",
      "8/8 [==============================] - 0s 4ms/step - loss: 0.1998 - accuracy: 0.6256\n",
      "Epoch 40/50\n",
      "8/8 [==============================] - 0s 4ms/step - loss: 0.1934 - accuracy: 0.6256\n",
      "Epoch 41/50\n",
      "8/8 [==============================] - 0s 4ms/step - loss: 0.2128 - accuracy: 0.6256\n",
      "Epoch 42/50\n",
      "8/8 [==============================] - 0s 4ms/step - loss: 0.1720 - accuracy: 0.6256\n",
      "Epoch 43/50\n",
      "8/8 [==============================] - 0s 4ms/step - loss: 0.2556 - accuracy: 0.6256\n",
      "Epoch 44/50\n",
      "8/8 [==============================] - 0s 6ms/step - loss: 0.1802 - accuracy: 0.6256\n",
      "Epoch 45/50\n",
      "8/8 [==============================] - 0s 4ms/step - loss: 0.1693 - accuracy: 0.6256\n",
      "Epoch 46/50\n",
      "8/8 [==============================] - 0s 5ms/step - loss: 0.2163 - accuracy: 0.6256\n",
      "Epoch 47/50\n",
      "8/8 [==============================] - 0s 5ms/step - loss: 0.1637 - accuracy: 0.6256\n",
      "Epoch 48/50\n",
      "8/8 [==============================] - 0s 5ms/step - loss: 0.1931 - accuracy: 0.6256\n",
      "Epoch 49/50\n",
      "8/8 [==============================] - 0s 5ms/step - loss: 0.1841 - accuracy: 0.6256\n",
      "Epoch 50/50\n",
      "8/8 [==============================] - 0s 4ms/step - loss: 0.1714 - accuracy: 0.6256\n"
     ]
    },
    {
     "data": {
      "text/plain": [
       "<keras.callbacks.History at 0x7f27631a6dd0>"
      ]
     },
     "execution_count": 30,
     "metadata": {},
     "output_type": "execute_result"
    }
   ],
   "source": [
    "from keras.layers import Dense, Activation\n",
    "from tensorflow.keras.optimizers import SGD\n",
    "\n",
    "learning_rate =0.8\n",
    "batch_size = 50\n",
    "nb_epoch =50\n",
    "\n",
    "#hyperparametre deep_learning, tableau (colone, ligne (accuracy, loss))\n",
    "model = Sequential()\n",
    "model.add(Dense(128, input_dim=30))\n",
    "model.add(Activation('sigmoid'))\n",
    "model.add(Dropout(0.3))\n",
    "\n",
    "model.add(Dense(512))\n",
    "model.add(Activation('sigmoid'))\n",
    "model.add(Dropout(0.3))\n",
    "\n",
    "\n",
    "\n",
    "model.add(Dense(1))\n",
    "model.add(Activation('softmax'))\n",
    "\n",
    "sgd = SGD(learning_rate)\n",
    "model.compile(loss='binary_crossentropy', optimizer=sgd, metrics=['accuracy'])\n",
    "model.fit(X_train, y_train, batch_size=batch_size, epochs=nb_epoch, verbose=1)"
   ]
  },
  {
   "cell_type": "markdown",
   "metadata": {
    "id": "CV0DUtKu3efk"
   },
   "source": [
    "Régression Logistique\n",
    "**texte en gras**"
   ]
  },
  {
   "cell_type": "code",
   "execution_count": 38,
   "metadata": {
    "colab": {
     "base_uri": "https://localhost:8080/"
    },
    "executionInfo": {
     "elapsed": 1165,
     "status": "ok",
     "timestamp": 1637340037354,
     "user": {
      "displayName": "Mamitiana TAHIRINTSOA",
      "photoUrl": "https://lh3.googleusercontent.com/a/default-user=s64",
      "userId": "02822327075829457232"
     },
     "user_tz": -60
    },
    "id": "JtoarL4Z9vnL",
    "outputId": "c93fe0ce-fa03-47f6-8325-5944929a332f"
   },
   "outputs": [
    {
     "name": "stdout",
     "output_type": "stream",
     "text": [
      "WARNING:tensorflow:`period` argument is deprecated. Please use `save_freq` to specify the frequency in number of batches seen.\n",
      "1/8 [==>...........................] - ETA: 4s - loss: 1.0478 - accuracy: 0.5000WARNING:tensorflow:Can save best model only with val_loss available, skipping.\n",
      "WARNING:tensorflow:Early stopping conditioned on metric `val_loss` which is not available. Available metrics are: loss,accuracy\n",
      "8/8 [==============================] - 1s 6ms/step - loss: 1.1618 - accuracy: 0.6256\n"
     ]
    },
    {
     "data": {
      "text/plain": [
       "<keras.callbacks.History at 0x7f2762ea5050>"
      ]
     },
     "execution_count": 38,
     "metadata": {},
     "output_type": "execute_result"
    }
   ],
   "source": [
    "from keras.layers import Dense, Activation\n",
    "from tensorflow.keras.optimizers import SGD\n",
    "from tensorflow.keras.callbacks import ModelCheckpoint, EarlyStopping\n",
    "#from keras.layers.normalization import BatchNormalization\n",
    "\n",
    "# import BatchNormalization\n",
    "from tensorflow.keras.layers import BatchNormalization\n",
    "\n",
    "\n",
    "\n",
    "learning_rate =0.8\n",
    "batch_size = 50\n",
    "nb_epoch =50\n",
    "\n",
    "#hyperparametre deep_learning, tableau (colone, ligne (accuracy, loss))\n",
    "#ammelioer cet modele\n",
    "model = Sequential()\n",
    "model.add(Dense(128, input_dim=30))\n",
    "model.add(Activation('sigmoid'))\n",
    "model.add(Dropout(0.3))\n",
    "\n",
    "model.add(Dense(512))\n",
    "model.add(Activation('sigmoid'))\n",
    "model.add(Dropout(0.3))\n",
    "model.add(BatchNormalization())\n",
    "\n",
    "\n",
    "model.add(Dense(1))\n",
    "model.add(Activation('softmax'))\n",
    "\n",
    "#sauvgarder le bon model\n",
    "checkpointer = ModelCheckpoint(filepath='NN_TP1.hdf5', monitor='val_loss', verbose=0, save_best_only=True, \n",
    "                               save_weiths_only=False, mode='min', period=1)\n",
    "\n",
    "#toper des qu'il y a une divergence\n",
    "early = EarlyStopping(monitor='val_loss', min_delta=0, patience=5, verbose=0, mode='auto')\n",
    "\n",
    "\n",
    "sgd = SGD(learning_rate)\n",
    "\n",
    "model.compile(loss='binary_crossentropy', optimizer=sgd, metrics=['accuracy'])\n",
    "model.fit(X_train, y_train, batch_size=batch_size, callbacks=[checkpointer, early], verbose=1)"
   ]
  }
 ],
 "metadata": {
  "colab": {
   "authorship_tag": "ABX9TyNmXdiFDfXwnxkK1cor3E5F",
   "collapsed_sections": [],
   "name": "cours Depp.ipynb",
   "provenance": []
  },
  "kernelspec": {
   "display_name": "Python 3",
   "language": "python",
   "name": "python3"
  },
  "language_info": {
   "codemirror_mode": {
    "name": "ipython",
    "version": 3
   },
   "file_extension": ".py",
   "mimetype": "text/x-python",
   "name": "python",
   "nbconvert_exporter": "python",
   "pygments_lexer": "ipython3",
   "version": "3.5.6"
  }
 },
 "nbformat": 4,
 "nbformat_minor": 1
}
